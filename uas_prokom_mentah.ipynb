{
 "cells": [
  {
   "cell_type": "code",
   "execution_count": 1048,
   "metadata": {},
   "outputs": [],
   "source": [
    "import json\n",
    "import pandas as pd\n",
    "import numpy as np\n",
    "import matplotlib.pyplot as plt"
   ]
  },
  {
   "cell_type": "code",
   "execution_count": 1049,
   "metadata": {},
   "outputs": [],
   "source": [
    "dataframe_csv = pd.read_csv(\"produksi_minyak_mentah.csv\")\n",
    "file_json = json.load(open(\"kode_negara_lengkap.json\"))\n",
    "dataframe_json = pd.DataFrame.from_dict(file_json, orient='columns')"
   ]
  },
  {
   "cell_type": "code",
   "execution_count": 1050,
   "metadata": {},
   "outputs": [],
   "source": [
    "list_kodekumpulannegara = []\n",
    "for i in list(dataframe_csv['kode_negara']) :\n",
    "    if i not in list(dataframe_json['alpha-3']) :\n",
    "        list_kodekumpulannegara.append(i)\n",
    "for i in list_kodekumpulannegara :\n",
    "    dataframe_csv = dataframe_csv[dataframe_csv.kode_negara != i]"
   ]
  },
  {
   "cell_type": "code",
   "execution_count": 1051,
   "metadata": {},
   "outputs": [],
   "source": [
    "dataframe_jsonsingkat = dataframe_json[['name', 'region', 'sub-region', 'alpha-3']]\n",
    "dataframe_jsonbaru = dataframe_jsonsingkat.rename(columns = {'alpha-3':'kode_negara'})\n",
    "dataframe_gabungan = pd.merge(dataframe_csv, dataframe_jsonbaru, on = 'kode_negara')\n",
    "dataframe_gabungan = dataframe_gabungan.rename(columns = {'name':'nama_negara'})"
   ]
  },
  {
   "cell_type": "code",
   "execution_count": 1052,
   "metadata": {},
   "outputs": [],
   "source": [
    "#nomor a\n",
    "n = input(\"Nama Negara: \")\n",
    "N = n.title()"
   ]
  },
  {
   "cell_type": "code",
   "execution_count": 1053,
   "metadata": {},
   "outputs": [
    {
     "name": "stdout",
     "output_type": "stream",
     "text": [
      "     kode_negara  tahun   produksi nama_negara region          sub-region\n",
      "2318         IDN   1971  44946.941   Indonesia   Asia  South-eastern Asia\n",
      "2319         IDN   1972  54596.060   Indonesia   Asia  South-eastern Asia\n",
      "2320         IDN   1973  67429.592   Indonesia   Asia  South-eastern Asia\n",
      "2321         IDN   1974  69264.556   Indonesia   Asia  South-eastern Asia\n",
      "2322         IDN   1975  65816.985   Indonesia   Asia  South-eastern Asia\n",
      "2323         IDN   1976  75956.720   Indonesia   Asia  South-eastern Asia\n",
      "2324         IDN   1977  84901.024   Indonesia   Asia  South-eastern Asia\n",
      "2325         IDN   1978  80951.427   Indonesia   Asia  South-eastern Asia\n",
      "2326         IDN   1979  78746.481   Indonesia   Asia  South-eastern Asia\n",
      "2327         IDN   1980  79504.846   Indonesia   Asia  South-eastern Asia\n",
      "2328         IDN   1981  80691.242   Indonesia   Asia  South-eastern Asia\n",
      "2329         IDN   1982  66254.616   Indonesia   Asia  South-eastern Asia\n",
      "2330         IDN   1983  66566.523   Indonesia   Asia  South-eastern Asia\n",
      "2331         IDN   1984  74705.863   Indonesia   Asia  South-eastern Asia\n",
      "2332         IDN   1985  66477.261   Indonesia   Asia  South-eastern Asia\n",
      "2333         IDN   1986  71778.656   Indonesia   Asia  South-eastern Asia\n",
      "2334         IDN   1987  69417.555   Indonesia   Asia  South-eastern Asia\n",
      "2335         IDN   1988  66437.015   Indonesia   Asia  South-eastern Asia\n",
      "2336         IDN   1989  69455.258   Indonesia   Asia  South-eastern Asia\n",
      "2337         IDN   1990  72121.950   Indonesia   Asia  South-eastern Asia\n",
      "2338         IDN   1991  78699.519   Indonesia   Asia  South-eastern Asia\n",
      "2339         IDN   1992  74494.155   Indonesia   Asia  South-eastern Asia\n",
      "2340         IDN   1993  75466.270   Indonesia   Asia  South-eastern Asia\n",
      "2341         IDN   1994  79638.008   Indonesia   Asia  South-eastern Asia\n",
      "2342         IDN   1995  79441.343   Indonesia   Asia  South-eastern Asia\n",
      "2343         IDN   1996  78896.184   Indonesia   Asia  South-eastern Asia\n",
      "2344         IDN   1997  78291.924   Indonesia   Asia  South-eastern Asia\n",
      "2345         IDN   1998  77146.581   Indonesia   Asia  South-eastern Asia\n",
      "2346         IDN   1999  74340.288   Indonesia   Asia  South-eastern Asia\n",
      "2347         IDN   2000  70247.012   Indonesia   Asia  South-eastern Asia\n",
      "2348         IDN   2001  66458.414   Indonesia   Asia  South-eastern Asia\n",
      "2349         IDN   2002  61799.599   Indonesia   Asia  South-eastern Asia\n",
      "2350         IDN   2003  56649.633   Indonesia   Asia  South-eastern Asia\n",
      "2351         IDN   2004  53321.617   Indonesia   Asia  South-eastern Asia\n",
      "2352         IDN   2005  52428.983   Indonesia   Asia  South-eastern Asia\n",
      "2353         IDN   2006  49622.690   Indonesia   Asia  South-eastern Asia\n",
      "2354         IDN   2007  47074.200   Indonesia   Asia  South-eastern Asia\n",
      "2355         IDN   2008  48292.910   Indonesia   Asia  South-eastern Asia\n",
      "2356         IDN   2009  46754.238   Indonesia   Asia  South-eastern Asia\n",
      "2357         IDN   2010  46574.896   Indonesia   Asia  South-eastern Asia\n",
      "2358         IDN   2011  44532.843   Indonesia   Asia  South-eastern Asia\n",
      "2359         IDN   2012  42624.278   Indonesia   Asia  South-eastern Asia\n",
      "2360         IDN   2013  40702.467   Indonesia   Asia  South-eastern Asia\n",
      "2361         IDN   2014  38968.149   Indonesia   Asia  South-eastern Asia\n",
      "2362         IDN   2015  38355.737   Indonesia   Asia  South-eastern Asia\n"
     ]
    }
   ],
   "source": [
    "dataframe_jumlahproduksi = dataframe_gabungan.loc[dataframe_gabungan['nama_negara'] == N]\n",
    "print(dataframe_jumlahproduksi)"
   ]
  },
  {
   "cell_type": "code",
   "execution_count": 1054,
   "metadata": {},
   "outputs": [
    {
     "data": {
      "text/plain": [
       "<AxesSubplot:title={'center':'Grafik Jumlah Produksi terhadap Tahun dari Suatu Negara'}, xlabel='tahun'>"
      ]
     },
     "execution_count": 1054,
     "metadata": {},
     "output_type": "execute_result"
    },
    {
     "data": {
      "image/png": "[encoded data removed]",
      "text/plain": [
       "<Figure size 432x288 with 1 Axes>"
      ]
     },
     "metadata": {
      "needs_background": "light"
     },
     "output_type": "display_data"
    }
   ],
   "source": [
    "dataframe_jumlahproduksi.plot(x='tahun', y='produksi', title='Grafik Jumlah Produksi terhadap Tahun dari Suatu Negara')"
   ]
  },
  {
   "cell_type": "code",
   "execution_count": 1055,
   "metadata": {},
   "outputs": [],
   "source": [
    "#nomor b\n",
    "B = input(\"Banyak Negara: \")\n",
    "b = int(B)\n",
    "T = input(\"Tahun: \")\n",
    "t = int(T)"
   ]
  },
  {
   "cell_type": "code",
   "execution_count": 1056,
   "metadata": {},
   "outputs": [
    {
     "name": "stdout",
     "output_type": "stream",
     "text": [
      "     kode_negara  tahun    produksi                         nama_negara  \\\n",
      "1305         USA   1971  482149.550            United States of America   \n",
      "3014         SAU   1971  241141.895                        Saudi Arabia   \n",
      "2363         IRN   1971  230174.161          Iran (Islamic Republic of)   \n",
      "5498         VEN   1971  197992.167  Venezuela (Bolivarian Republic of)   \n",
      "4602         KWT   1971  155964.539                              Kuwait   \n",
      "\n",
      "        region                       sub-region  \n",
      "1305  Americas                 Northern America  \n",
      "3014      Asia                     Western Asia  \n",
      "2363      Asia                    Southern Asia  \n",
      "5498  Americas  Latin America and the Caribbean  \n",
      "4602      Asia                     Western Asia  \n"
     ]
    }
   ],
   "source": [
    "dataframe_jumlahproduksiterbesar = dataframe_gabungan.loc[dataframe_gabungan['tahun'] == t]\n",
    "dataframe_jumlahproduksiterbesar = dataframe_jumlahproduksiterbesar.sort_values(by='produksi', ascending=False)\n",
    "dataframe_jumlahproduksibaru = dataframe_jumlahproduksiterbesar[:b]\n",
    "print(dataframe_jumlahproduksibaru)"
   ]
  },
  {
   "cell_type": "code",
   "execution_count": 1057,
   "metadata": {},
   "outputs": [
    {
     "data": {
      "text/plain": [
       "<AxesSubplot:title={'center':'Grafik Beberapa Negara dengan Jumlah Produksi Terbesar pada Suatu Tahun'}, xlabel='nama_negara'>"
      ]
     },
     "execution_count": 1057,
     "metadata": {},
     "output_type": "execute_result"
    },
    {
     "data": {
      "image/png": "[encoded data removed]",
      "text/plain": [
       "<Figure size 432x288 with 1 Axes>"
      ]
     },
     "metadata": {
      "needs_background": "light"
     },
     "output_type": "display_data"
    }
   ],
   "source": [
    "dataframe_jumlahproduksibaru.plot.bar(x='nama_negara', y='produksi', color='red', title='Grafik Beberapa Negara dengan Jumlah Produksi Terbesar pada Suatu Tahun')"
   ]
  },
  {
   "cell_type": "code",
   "execution_count": 1058,
   "metadata": {},
   "outputs": [],
   "source": [
    "#nomor c\n",
    "list_namanegara = []\n",
    "for i in list(dataframe_gabungan['nama_negara']) :\n",
    "    if i not in list_namanegara :\n",
    "        list_namanegara.append(i)"
   ]
  },
  {
   "cell_type": "code",
   "execution_count": 1059,
   "metadata": {},
   "outputs": [],
   "source": [
    "list_jumlahkumulatif = []\n",
    "for i in list_namanegara :\n",
    "    jumlahproduksi_negara = dataframe_gabungan.loc[dataframe_gabungan['nama_negara'] == i, 'produksi'].sum()\n",
    "    list_jumlahkumulatif.append(jumlahproduksi_negara)"
   ]
  },
  {
   "cell_type": "code",
   "execution_count": 1060,
   "metadata": {},
   "outputs": [],
   "source": [
    "dataframe_kumulatifnegara = pd.DataFrame(list(zip(list_namanegara, list_jumlahkumulatif)), columns=['nama_negara', 'jumlah_kumulatif'])"
   ]
  },
  {
   "cell_type": "code",
   "execution_count": 1061,
   "metadata": {},
   "outputs": [],
   "source": [
    "B2 = input(\"Banyak Negara: \")\n",
    "b2 = int(B2)"
   ]
  },
  {
   "cell_type": "code",
   "execution_count": 1062,
   "metadata": {},
   "outputs": [
    {
     "name": "stdout",
     "output_type": "stream",
     "text": [
      "                            nama_negara  jumlah_kumulatif\n",
      "73                         Saudi Arabia      1.771177e+07\n",
      "29             United States of America      1.672414e+07\n",
      "72                   Russian Federation      1.070275e+07\n",
      "56           Iran (Islamic Republic of)      8.376461e+06\n",
      "134  Venezuela (Bolivarian Republic of)      6.573346e+06\n",
      "43                                China      6.422426e+06\n",
      "17                               Mexico      5.771632e+06\n"
     ]
    }
   ],
   "source": [
    "dataframe_jumlahkumulatifterbesar = dataframe_kumulatifnegara.sort_values(by='jumlah_kumulatif', ascending=False)\n",
    "dataframe_jumlahkumulatifterbesarbaru = dataframe_jumlahkumulatifterbesar[:b2]\n",
    "print(dataframe_jumlahkumulatifterbesarbaru)"
   ]
  },
  {
   "cell_type": "code",
   "execution_count": 1063,
   "metadata": {},
   "outputs": [
    {
     "data": {
      "text/plain": [
       "<AxesSubplot:title={'center':'Grafik Beberapa Negara dengan Jumlah Produksi Kumulatif Terbesar'}, xlabel='nama_negara'>"
      ]
     },
     "execution_count": 1063,
     "metadata": {},
     "output_type": "execute_result"
    },
    {
     "data": {
      "image/png": "[encoded data removed]",
      "text/plain": [
       "<Figure size 432x288 with 1 Axes>"
      ]
     },
     "metadata": {
      "needs_background": "light"
     },
     "output_type": "display_data"
    }
   ],
   "source": [
    "dataframe_jumlahkumulatifterbesarbaru.plot.bar(x='nama_negara', y='jumlah_kumulatif', color='green', title='Grafik Beberapa Negara dengan Jumlah Produksi Kumulatif Terbesar')"
   ]
  },
  {
   "cell_type": "code",
   "execution_count": 1064,
   "metadata": {},
   "outputs": [],
   "source": [
    "#nomor d\n",
    "list_kodenegara = []\n",
    "list_regionnegara = []\n",
    "list_subregionnegara = []\n",
    "for i in range(len(dataframe_kumulatifnegara)) :\n",
    "    for j in range(len(dataframe_json)) :\n",
    "        if list(dataframe_kumulatifnegara['nama_negara'])[i] == list(dataframe_json['name'])[j]:\n",
    "            list_kodenegara.append(list(dataframe_json['alpha-3'])[j])\n",
    "            list_regionnegara.append(list(dataframe_json['region'])[j])\n",
    "            list_subregionnegara.append(list(dataframe_json['sub-region'])[j])"
   ]
  },
  {
   "cell_type": "code",
   "execution_count": 1065,
   "metadata": {},
   "outputs": [],
   "source": [
    "dataframe_kumulatifnegaralengkap = pd.DataFrame(list(zip(list_kodenegara, list_namanegara, list_jumlahkumulatif, list_regionnegara, list_subregionnegara)), columns=['kode_negara', 'nama_negara', 'jumlah_kumulatif', 'region', 'sub-region'])"
   ]
  },
  {
   "cell_type": "code",
   "execution_count": 1066,
   "metadata": {},
   "outputs": [],
   "source": [
    "T2 = input(\"Tahun: \")\n",
    "t2 = int(T2)"
   ]
  },
  {
   "cell_type": "code",
   "execution_count": 1067,
   "metadata": {},
   "outputs": [
    {
     "name": "stdout",
     "output_type": "stream",
     "text": [
      "     kode_negara  tahun   produksi               nama_negara    region  \\\n",
      "1305         USA   1971  482149.55  United States of America  Americas   \n",
      "\n",
      "            sub-region  \n",
      "1305  Northern America  \n"
     ]
    }
   ],
   "source": [
    "#terbesar\n",
    "dataframe_jumlahproduksiterbesar2 = dataframe_gabungan.loc[dataframe_gabungan['tahun'] == t2]\n",
    "dataframe_jumlahproduksiterbesar2 = dataframe_jumlahproduksiterbesar2.sort_values(by='produksi', ascending=False)\n",
    "dataframe_jumlahproduksibaru2 = dataframe_jumlahproduksiterbesar2[:1]\n",
    "print(dataframe_jumlahproduksibaru2)"
   ]
  },
  {
   "cell_type": "code",
   "execution_count": 1068,
   "metadata": {},
   "outputs": [
    {
     "name": "stdout",
     "output_type": "stream",
     "text": [
      "   kode_negara   nama_negara  jumlah_kumulatif region    sub-region\n",
      "73         SAU  Saudi Arabia      1.771177e+07   Asia  Western Asia\n"
     ]
    }
   ],
   "source": [
    "#terbesar keseluruhan tahun\n",
    "dataframe_terbesarkeseluruhantahun = dataframe_kumulatifnegaralengkap.sort_values(by='jumlah_kumulatif', ascending=False)\n",
    "dataframe_terbesarkeseluruhantahunbaru = dataframe_terbesarkeseluruhantahun[:1]\n",
    "print(dataframe_terbesarkeseluruhantahunbaru)"
   ]
  },
  {
   "cell_type": "code",
   "execution_count": 1069,
   "metadata": {},
   "outputs": [
    {
     "name": "stdout",
     "output_type": "stream",
     "text": [
      "     kode_negara  tahun  produksi nama_negara region          sub-region\n",
      "3310         THA   1971    13.234    Thailand   Asia  South-eastern Asia\n"
     ]
    }
   ],
   "source": [
    "#terkecil\n",
    "dataframe_produksitanpanol = dataframe_gabungan[dataframe_gabungan.produksi != 0]\n",
    "dataframe_jumlahproduksiterkecil = dataframe_produksitanpanol.loc[dataframe_produksitanpanol['tahun'] == t2]\n",
    "dataframe_jumlahproduksiterkecil = dataframe_jumlahproduksiterkecil.sort_values(by='produksi', ascending=True)\n",
    "dataframe_jumlahproduksiterkecilbaru = dataframe_jumlahproduksiterkecil[:1]\n",
    "print(dataframe_jumlahproduksiterkecilbaru)"
   ]
  },
  {
   "cell_type": "code",
   "execution_count": 1070,
   "metadata": {},
   "outputs": [
    {
     "name": "stdout",
     "output_type": "stream",
     "text": [
      "    kode_negara nama_negara  jumlah_kumulatif  region          sub-region\n",
      "125         SEN     Senegal            17.306  Africa  Sub-Saharan Africa\n"
     ]
    }
   ],
   "source": [
    "#terkecil keseluruhan tahun\n",
    "dataframe_terkecilkeseluruhantahun = dataframe_terbesarkeseluruhantahun.sort_values(by='jumlah_kumulatif', ascending=True)\n",
    "dataframe_kumulatiftanpanol = dataframe_terkecilkeseluruhantahun[dataframe_terkecilkeseluruhantahun.jumlah_kumulatif != 0]\n",
    "dataframe_terkecilkeseluruhantahunbaru = dataframe_kumulatiftanpanol[:1]\n",
    "print(dataframe_terkecilkeseluruhantahunbaru)"
   ]
  },
  {
   "cell_type": "code",
   "execution_count": 1071,
   "metadata": {},
   "outputs": [
    {
     "name": "stdout",
     "output_type": "stream",
     "text": [
      "     kode_negara  tahun  produksi                              nama_negara  \\\n",
      "90           BEL   1971       0.0                                  Belgium   \n",
      "225          DNK   1971       0.0                                  Denmark   \n",
      "270          FIN   1971       0.0                                  Finland   \n",
      "405          GRC   1971       0.0                                   Greece   \n",
      "495          ISL   1971       0.0                                  Iceland   \n",
      "540          IRL   1971       0.0                                  Ireland   \n",
      "675          KOR   1971       0.0                       Korea, Republic of   \n",
      "720          LUX   1971       0.0                               Luxembourg   \n",
      "855          NZL   1971       0.0                              New Zealand   \n",
      "990          PRT   1971       0.0                                 Portugal   \n",
      "1125         SWE   1971       0.0                                   Sweden   \n",
      "1170         CHE   1971       0.0                              Switzerland   \n",
      "1537         BGD   1971       0.0                               Bangladesh   \n",
      "1951         CYP   1971       0.0                                   Cyprus   \n",
      "2067         ETH   1971       0.0                                 Ethiopia   \n",
      "2138         GHA   1971       0.0                                    Ghana   \n",
      "2183         HTI   1971       0.0                                    Haiti   \n",
      "2228         HKG   1971       0.0                                Hong Kong   \n",
      "2602         MLT   1971       0.0                                    Malta   \n",
      "2673         MOZ   1971       0.0                               Mozambique   \n",
      "2808         PRY   1971       0.0                                 Paraguay   \n",
      "2898         PHL   1971       0.0                              Philippines   \n",
      "3059         SGP   1971       0.0                                Singapore   \n",
      "3130         ZAF   1971       0.0                             South Africa   \n",
      "3175         SDN   1971       0.0                                    Sudan   \n",
      "3265         TZA   1971       0.0             Tanzania, United Republic of   \n",
      "3426         URY   1971       0.0                                  Uruguay   \n",
      "3471         VNM   1971       0.0                                 Viet Nam   \n",
      "3516         ZMB   1971       0.0                                   Zambia   \n",
      "3688         BEN   1971       0.0                                    Benin   \n",
      "3813         CMR   1971       0.0                                 Cameroon   \n",
      "3903         CRI   1971       0.0                               Costa Rica   \n",
      "3948         CIV   1971       0.0                           CÃ´te d'Ivoire   \n",
      "4038         PRK   1971       0.0  Korea (Democratic People's Republic of)   \n",
      "4083         COD   1971       0.0        Congo, Democratic Republic of the   \n",
      "4128         DOM   1971       0.0                       Dominican Republic   \n",
      "4218         SLV   1971       0.0                              El Salvador   \n",
      "4332         GTM   1971       0.0                                Guatemala   \n",
      "4377         HND   1971       0.0                                 Honduras   \n",
      "4467         JAM   1971       0.0                                  Jamaica   \n",
      "4512         JOR   1971       0.0                                   Jordan   \n",
      "4557         KEN   1971       0.0                                    Kenya   \n",
      "4673         LBN   1971       0.0                                  Lebanon   \n",
      "4909         NPL   1971       0.0                                    Nepal   \n",
      "4954         NIC   1971       0.0                                Nicaragua   \n",
      "5060         PAN   1971       0.0                                   Panama   \n",
      "5150         SEN   1971       0.0                                  Senegal   \n",
      "5195         LKA   1971       0.0                                Sri Lanka   \n",
      "5311         TGO   1971       0.0                                     Togo   \n",
      "5543         YEM   1971       0.0                                    Yemen   \n",
      "5588         ZWE   1971       0.0                                 Zimbabwe   \n",
      "\n",
      "        region                       sub-region  \n",
      "90      Europe                   Western Europe  \n",
      "225     Europe                  Northern Europe  \n",
      "270     Europe                  Northern Europe  \n",
      "405     Europe                  Southern Europe  \n",
      "495     Europe                  Northern Europe  \n",
      "540     Europe                  Northern Europe  \n",
      "675       Asia                     Eastern Asia  \n",
      "720     Europe                   Western Europe  \n",
      "855    Oceania        Australia and New Zealand  \n",
      "990     Europe                  Southern Europe  \n",
      "1125    Europe                  Northern Europe  \n",
      "1170    Europe                   Western Europe  \n",
      "1537      Asia                    Southern Asia  \n",
      "1951      Asia                     Western Asia  \n",
      "2067    Africa               Sub-Saharan Africa  \n",
      "2138    Africa               Sub-Saharan Africa  \n",
      "2183  Americas  Latin America and the Caribbean  \n",
      "2228      Asia                     Eastern Asia  \n",
      "2602    Europe                  Southern Europe  \n",
      "2673    Africa               Sub-Saharan Africa  \n",
      "2808  Americas  Latin America and the Caribbean  \n",
      "2898      Asia               South-eastern Asia  \n",
      "3059      Asia               South-eastern Asia  \n",
      "3130    Africa               Sub-Saharan Africa  \n",
      "3175    Africa                  Northern Africa  \n",
      "3265    Africa               Sub-Saharan Africa  \n",
      "3426  Americas  Latin America and the Caribbean  \n",
      "3471      Asia               South-eastern Asia  \n",
      "3516    Africa               Sub-Saharan Africa  \n",
      "3688    Africa               Sub-Saharan Africa  \n",
      "3813    Africa               Sub-Saharan Africa  \n",
      "3903  Americas  Latin America and the Caribbean  \n",
      "3948    Africa               Sub-Saharan Africa  \n",
      "4038      Asia                     Eastern Asia  \n",
      "4083    Africa               Sub-Saharan Africa  \n",
      "4128  Americas  Latin America and the Caribbean  \n",
      "4218  Americas  Latin America and the Caribbean  \n",
      "4332  Americas  Latin America and the Caribbean  \n",
      "4377  Americas  Latin America and the Caribbean  \n",
      "4467  Americas  Latin America and the Caribbean  \n",
      "4512      Asia                     Western Asia  \n",
      "4557    Africa               Sub-Saharan Africa  \n",
      "4673      Asia                     Western Asia  \n",
      "4909      Asia                    Southern Asia  \n",
      "4954  Americas  Latin America and the Caribbean  \n",
      "5060  Americas  Latin America and the Caribbean  \n",
      "5150    Africa               Sub-Saharan Africa  \n",
      "5195      Asia                    Southern Asia  \n",
      "5311    Africa               Sub-Saharan Africa  \n",
      "5543      Asia                     Western Asia  \n",
      "5588    Africa               Sub-Saharan Africa  \n"
     ]
    }
   ],
   "source": [
    "#nol\n",
    "dataframe_produksinol = dataframe_gabungan[dataframe_gabungan.produksi == 0]\n",
    "dataframe_jumlahproduksinol = dataframe_produksinol.loc[dataframe_produksinol['tahun'] == t2]\n",
    "print(dataframe_jumlahproduksinol)"
   ]
  },
  {
   "cell_type": "code",
   "execution_count": 1072,
   "metadata": {},
   "outputs": [
    {
     "name": "stdout",
     "output_type": "stream",
     "text": [
      "    kode_negara                              nama_negara  jumlah_kumulatif  \\\n",
      "136         ZWE                                 Zimbabwe               0.0   \n",
      "16          LUX                               Luxembourg               0.0   \n",
      "12          IRL                                  Ireland               0.0   \n",
      "11          ISL                                  Iceland               0.0   \n",
      "6           FIN                                  Finland               0.0   \n",
      "2           BEL                                  Belgium               0.0   \n",
      "102         SLV                              El Salvador               0.0   \n",
      "103         ERI                                  Eritrea               0.0   \n",
      "68          PRY                                 Paraguay               0.0   \n",
      "126         LKA                                Sri Lanka               0.0   \n",
      "123         PAN                                   Panama               0.0   \n",
      "113         LBN                                  Lebanon               0.0   \n",
      "119         NPL                                    Nepal               0.0   \n",
      "110         KEN                                    Kenya               0.0   \n",
      "129         TGO                                     Togo               0.0   \n",
      "106         HND                                 Honduras               0.0   \n",
      "118         NAM                                  Namibia               0.0   \n",
      "108         JAM                                  Jamaica               0.0   \n",
      "22          PRT                                 Portugal               0.0   \n",
      "26          CHE                              Switzerland               0.0   \n",
      "120         NIC                                Nicaragua               0.0   \n",
      "37          BIH                   Bosnia and Herzegovina               0.0   \n",
      "33          ARM                                  Armenia               0.0   \n",
      "98          PRK  Korea (Democratic People's Republic of)               0.0   \n",
      "95          CRI                               Costa Rica               0.0   \n",
      "92          BWA                                 Botswana               0.0   \n",
      "87          MNE                               Montenegro               0.0   \n",
      "85          ZMB                                   Zambia               0.0   \n",
      "83          URY                                  Uruguay               0.0   \n",
      "79          TZA             Tanzania, United Republic of               0.0   \n",
      "74          SGP                                Singapore               0.0   \n",
      "100         DOM                       Dominican Republic               0.0   \n",
      "61          MKD                          North Macedonia               0.0   \n",
      "63          MLT                                    Malta               0.0   \n",
      "59          LVA                                   Latvia               0.0   \n",
      "53          HKG                                Hong Kong               0.0   \n",
      "52          HTI                                    Haiti               0.0   \n",
      "49          ETH                                 Ethiopia               0.0   \n",
      "48          EST                                  Estonia               0.0   \n",
      "46          CYP                                   Cyprus               0.0   \n",
      "41          KHM                                 Cambodia               0.0   \n",
      "\n",
      "       region                       sub-region  \n",
      "136    Africa               Sub-Saharan Africa  \n",
      "16     Europe                   Western Europe  \n",
      "12     Europe                  Northern Europe  \n",
      "11     Europe                  Northern Europe  \n",
      "6      Europe                  Northern Europe  \n",
      "2      Europe                   Western Europe  \n",
      "102  Americas  Latin America and the Caribbean  \n",
      "103    Africa               Sub-Saharan Africa  \n",
      "68   Americas  Latin America and the Caribbean  \n",
      "126      Asia                    Southern Asia  \n",
      "123  Americas  Latin America and the Caribbean  \n",
      "113      Asia                     Western Asia  \n",
      "119      Asia                    Southern Asia  \n",
      "110    Africa               Sub-Saharan Africa  \n",
      "129    Africa               Sub-Saharan Africa  \n",
      "106  Americas  Latin America and the Caribbean  \n",
      "118    Africa               Sub-Saharan Africa  \n",
      "108  Americas  Latin America and the Caribbean  \n",
      "22     Europe                  Southern Europe  \n",
      "26     Europe                   Western Europe  \n",
      "120  Americas  Latin America and the Caribbean  \n",
      "37     Europe                  Southern Europe  \n",
      "33       Asia                     Western Asia  \n",
      "98       Asia                     Eastern Asia  \n",
      "95   Americas  Latin America and the Caribbean  \n",
      "92     Africa               Sub-Saharan Africa  \n",
      "87     Europe                  Southern Europe  \n",
      "85     Africa               Sub-Saharan Africa  \n",
      "83   Americas  Latin America and the Caribbean  \n",
      "79     Africa               Sub-Saharan Africa  \n",
      "74       Asia               South-eastern Asia  \n",
      "100  Americas  Latin America and the Caribbean  \n",
      "61     Europe                  Southern Europe  \n",
      "63     Europe                  Southern Europe  \n",
      "59     Europe                  Northern Europe  \n",
      "53       Asia                     Eastern Asia  \n",
      "52   Americas  Latin America and the Caribbean  \n",
      "49     Africa               Sub-Saharan Africa  \n",
      "48     Europe                  Northern Europe  \n",
      "46       Asia                     Western Asia  \n",
      "41       Asia               South-eastern Asia  \n"
     ]
    }
   ],
   "source": [
    "#nol keseluruhan tahun\n",
    "dataframe_kumulatifnol = dataframe_terkecilkeseluruhantahun[dataframe_terkecilkeseluruhantahun.jumlah_kumulatif == 0]\n",
    "print(dataframe_kumulatifnol)"
   ]
  }
 ],
 "metadata": {
  "interpreter": {
   "hash": "3a4565eb6215a326995d9cfd00f1782ebb9ab334d122fb684360bfee2e0fdc62"
  },
  "kernelspec": {
   "display_name": "Python 3.9.7 64-bit",
   "language": "python",
   "name": "python3"
  },
  "language_info": {
   "codemirror_mode": {
    "name": "ipython",
    "version": 3
   },
   "file_extension": ".py",
   "mimetype": "text/x-python",
   "name": "python",
   "nbconvert_exporter": "python",
   "pygments_lexer": "ipython3",
   "version": "3.9.7"
  },
  "orig_nbformat": 4
 },
 "nbformat": 4,
 "nbformat_minor": 2
}
